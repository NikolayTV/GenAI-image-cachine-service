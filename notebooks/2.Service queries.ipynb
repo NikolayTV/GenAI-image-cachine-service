{
 "cells": [
  {
   "cell_type": "code",
   "execution_count": 1,
   "metadata": {},
   "outputs": [],
   "source": [
    "%load_ext autoreload\n",
    "%autoreload 2\n",
    "\n",
    "import chromadb\n",
    "import requests\n",
    "\n"
   ]
  },
  {
   "cell_type": "markdown",
   "metadata": {},
   "source": [
    "# Add cached image"
   ]
  },
  {
   "cell_type": "code",
   "execution_count": 23,
   "metadata": {},
   "outputs": [
    {
     "name": "stdout",
     "output_type": "stream",
     "text": [
      "200\n",
      "None\n"
     ]
    }
   ],
   "source": [
    "import requests\n",
    "\n",
    "url = \"http://0.0.0.0:8017/upsert_cached_image/\"\n",
    "headers = {\n",
    "    \"accept\": \"application/json\",\n",
    "    \"Content-Type\": \"application/json\"\n",
    "}\n",
    "payload = {\n",
    "    \"persona\": 'nikolai', \n",
    "    \"img_uuid\": \"olalatropolya\",\n",
    "    \"img_path\": \"example/img/path1.jpeg\",\n",
    "    \"prompt\": \"nuclear sex\",\n",
    "    \"emb\": [0.0 for i in range(1024)], # dimensions should be same in same collection\n",
    "    \"tags\": {\n",
    "        \"tag_outdoors\": 0,\n",
    "        \"tag_intimacy_lvl\": 2,\n",
    "        \"tag_pussy\": 1\n",
    "    }\n",
    "}\n",
    "\n",
    "response = requests.post(url, headers=headers, json=payload)\n",
    "\n",
    "print(response.status_code)\n",
    "print(response.json())"
   ]
  },
  {
   "cell_type": "markdown",
   "metadata": {},
   "source": [
    "# Query image"
   ]
  },
  {
   "cell_type": "code",
   "execution_count": 24,
   "metadata": {},
   "outputs": [
    {
     "name": "stdout",
     "output_type": "stream",
     "text": [
      "200\n",
      "{\"ids\": [[\"olalatropolya\"]], \"distances\": [[1.0000002072227896]], \"embeddings\": null, \"metadatas\": [[{\"img_uuid\": \"olalatropolya\", \"intimacy_lvl\": 2, \"outdoors\": 1, \"prompt\": \"nuclear sex\", \"pussy\": 1, \"tag_intimacy_lvl\": 2, \"tag_outdoors\": 0, \"tag_pussy\": 1}]], \"documents\": [[\"example/img/path1.jpeg\"]], \"uris\": null, \"data\": null, \"included\": [\"metadatas\", \"documents\", \"distances\"]}\n"
     ]
    }
   ],
   "source": [
    "### You can create function like this:\n",
    "\n",
    "# async def query_cached_image(avatar, user_id, diffusion_prompt, tags={}, n_results=1):\n",
    "    \n",
    "#     if is_running_in_docker() or is_running_in_kubernetes():\n",
    "#         host = 'localhost'\n",
    "#     else:\n",
    "#         host = 'imagecache'\n",
    "        \n",
    "#     url = f\"http://{host}:8017/get_image_candidate/\"\n",
    "#     headers = {\"accept\": \"application/json\", \"Content-Type\": \"application/json\"}\n",
    "#     payload = {\n",
    "#         \"diffusion_prompt\": diffusion_prompt,\n",
    "#         \"persona\": avatar,\n",
    "#         \"user_id\": user_id,\n",
    "#         \"tags\": tags,\n",
    "#         \"n_results\": n_results\n",
    "#     }\n",
    "\n",
    "#     response = requests.post(url, headers=headers, json=payload)\n",
    "\n",
    "#     print(response.status_code)\n",
    "#     print(response.json())\n",
    "    \n",
    "    \n",
    "    \n",
    "\n",
    "import requests\n",
    "\n",
    "url = \"http://0.0.0.0:8017/get_image_candidate/\"\n",
    "headers = {\n",
    "    \"accept\": \"application/json\",\n",
    "    \"Content-Type\": \"application/json\"\n",
    "}\n",
    "payload = {\n",
    "    \"diffusion_prompt\": \"atomic sex\",\n",
    "    \"persona\": \"nikolai\",\n",
    "    \"user_id\": 3,\n",
    "    \"tags\": {\"tag_outdoors\": 0},\n",
    "    \"n_results\": 1\n",
    "}\n",
    "\n",
    "response = requests.post(url, headers=headers, json=payload)\n",
    "\n",
    "print(response.status_code)\n",
    "print(response.json())"
   ]
  },
  {
   "cell_type": "code",
   "execution_count": null,
   "metadata": {},
   "outputs": [],
   "source": []
  },
  {
   "cell_type": "code",
   "execution_count": 26,
   "metadata": {},
   "outputs": [
    {
     "name": "stdout",
     "output_type": "stream",
     "text": [
      "200\n",
      "{\"ids\": [[]], \"distances\": [[]], \"embeddings\": null, \"metadatas\": [[]], \"documents\": [[]], \"uris\": null, \"data\": null, \"included\": [\"metadatas\", \"documents\", \"distances\"]}\n"
     ]
    }
   ],
   "source": [
    "# Change tag in request\n",
    "import requests\n",
    "\n",
    "payload['tags'] = {\"tag_outdoors\": 1}\n",
    "\n",
    "response = requests.post(url, headers=headers, json=payload)\n",
    "\n",
    "print(response.status_code)\n",
    "print(response.json())"
   ]
  },
  {
   "cell_type": "code",
   "execution_count": null,
   "metadata": {},
   "outputs": [],
   "source": []
  },
  {
   "cell_type": "markdown",
   "metadata": {},
   "source": [
    "# Add record, to avoid using same image for same user_id"
   ]
  },
  {
   "cell_type": "code",
   "execution_count": 28,
   "metadata": {},
   "outputs": [
    {
     "name": "stdout",
     "output_type": "stream",
     "text": [
      "200\n",
      "None\n"
     ]
    }
   ],
   "source": [
    "import requests\n",
    "\n",
    "url = \"http://0.0.0.0:8017/add_image_usage_record/\"\n",
    "headers = {\n",
    "    \"accept\": \"application/json\",\n",
    "    \"Content-Type\": \"application/json\"\n",
    "}\n",
    "payload = {\n",
    "    \"user_id\": 3,\n",
    "    \"img_uuid\": \"olalatropolya\",\n",
    "    \"img_path\": \"string\" # This is optional\n",
    "}\n",
    "\n",
    "response = requests.post(url, headers=headers, json=payload)\n",
    "\n",
    "print(response.status_code)\n",
    "print(response.json())"
   ]
  },
  {
   "cell_type": "markdown",
   "metadata": {},
   "source": [
    "* After adding record, it will exclude this image from using by same user id"
   ]
  },
  {
   "cell_type": "code",
   "execution_count": 29,
   "metadata": {},
   "outputs": [
    {
     "name": "stdout",
     "output_type": "stream",
     "text": [
      "200\n",
      "{\"ids\": [[]], \"distances\": [[]], \"embeddings\": null, \"metadatas\": [[]], \"documents\": [[]], \"uris\": null, \"data\": null, \"included\": [\"metadatas\", \"documents\", \"distances\"]}\n"
     ]
    }
   ],
   "source": [
    "import requests\n",
    "\n",
    "url = \"http://0.0.0.0:8017/get_image_candidate/\"\n",
    "headers = {\n",
    "    \"accept\": \"application/json\",\n",
    "    \"Content-Type\": \"application/json\"\n",
    "}\n",
    "payload = {\n",
    "    \"diffusion_prompt\": \"atomic sex\",\n",
    "    \"persona\": \"nikolai\",\n",
    "    \"user_id\": 3,\n",
    "    \"tags\": {\"tag_outdoors\": 0},\n",
    "    \"n_results\": 1\n",
    "}\n",
    "\n",
    "response = requests.post(url, headers=headers, json=payload)\n",
    "\n",
    "print(response.status_code)\n",
    "print(response.json())"
   ]
  },
  {
   "cell_type": "code",
   "execution_count": null,
   "metadata": {},
   "outputs": [],
   "source": []
  },
  {
   "cell_type": "markdown",
   "metadata": {},
   "source": [
    "# Chroma queries"
   ]
  },
  {
   "cell_type": "code",
   "execution_count": 25,
   "metadata": {},
   "outputs": [
    {
     "data": {
      "text/plain": [
       "{'ids': ['olalatropolya'],\n",
       " 'embeddings': None,\n",
       " 'metadatas': [{'img_uuid': 'olalatropolya',\n",
       "   'intimacy_lvl': 2,\n",
       "   'outdoors': 1,\n",
       "   'prompt': 'nuclear sex',\n",
       "   'pussy': 1,\n",
       "   'tag_intimacy_lvl': 2,\n",
       "   'tag_outdoors': 0,\n",
       "   'tag_pussy': 1}],\n",
       " 'documents': ['example/img/path1.jpeg'],\n",
       " 'data': None,\n",
       " 'uris': None,\n",
       " 'included': ['metadatas', 'documents']}"
      ]
     },
     "execution_count": 25,
     "metadata": {},
     "output_type": "execute_result"
    }
   ],
   "source": [
    "import chromadb\n",
    "chroma_client = chromadb.HttpClient(host=\"localhost\", port=8000, settings=chromadb.Settings(allow_reset=True, anonymized_telemetry=False))\n",
    "collection = chroma_client.get_collection(name='nikolai')\n",
    "collection.get()"
   ]
  },
  {
   "cell_type": "code",
   "execution_count": null,
   "metadata": {},
   "outputs": [],
   "source": []
  }
 ],
 "metadata": {
  "kernelspec": {
   "display_name": "base",
   "language": "python",
   "name": "python3"
  },
  "language_info": {
   "codemirror_mode": {
    "name": "ipython",
    "version": 3
   },
   "file_extension": ".py",
   "mimetype": "text/x-python",
   "name": "python",
   "nbconvert_exporter": "python",
   "pygments_lexer": "ipython3",
   "version": "3.11.8"
  }
 },
 "nbformat": 4,
 "nbformat_minor": 2
}
