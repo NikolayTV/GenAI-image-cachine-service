{
 "cells": [
  {
   "cell_type": "code",
   "execution_count": 1,
   "metadata": {},
   "outputs": [],
   "source": [
    "%load_ext autoreload\n",
    "%autoreload 2\n",
    "\n",
    "\n",
    "import sys\n",
    "sys.path.append('../src')\n",
    "from textwrap import dedent\n",
    "import pandas as pd \n",
    "\n",
    "from llm_utils import chat_completion_openai\n",
    "from configs import llm_scenarios_config, models_config\n"
   ]
  },
  {
   "cell_type": "code",
   "execution_count": 2,
   "metadata": {},
   "outputs": [
    {
     "name": "stderr",
     "output_type": "stream",
     "text": [
      "_client.py          :1773 2024-08-07 09:29:37,003 HTTP Request: POST https://openrouter.ai/api/v1/chat/completions \"HTTP/1.1 200 OK\"\n"
     ]
    },
    {
     "name": "stdout",
     "output_type": "stream",
     "text": [
      "{'answer_text': '{\\n  \"eroticism level\": \"explicit\",\\n  \"body part emphasis\": \"pussy, legs\",\\n  \"position\": \"legs spread\",\\n  \"location\": \"indoors\",\\n  \"clothes\": \"naked\"\\n}', 'input_tokens': 335, 'output_tokens': 50, 'execution_time': 6.1017961502075195, 'status': 'success'}\n"
     ]
    }
   ],
   "source": [
    "\n",
    "async def get_tags(image_description):\n",
    "    prompt_template = dedent(\"\"\"\n",
    "    You will be analyzing a short image description and providing tags for specific categories. Here is the image description:\n",
    "\n",
    "    <image_description>\n",
    "    $IMAGE_DESCRIPTION\n",
    "    </image_description>\n",
    "\n",
    "    Based on this description, you need to provide tags for the following categories:\n",
    "\n",
    "    1. Eroticism Level: Choose one of [Explicit, Softcore, Casual]\n",
    "    - Explicit: naked intimate parts visible\n",
    "    - Softcore: light erotics, suggestive but not explicit\n",
    "    - Casual: non-erotic, everyday scenes\n",
    "\n",
    "    2. Body Part Emphasis: Choose one or more of [face, breasts, pussy, legs, hands]\n",
    "    - Select the body part(s) that seem to be the focus of the image\n",
    "\n",
    "    3. Position: Choose one of [standing, lying, sitting, squatting, legs spread]\n",
    "    - Select the action that best describes the person's position in the image\n",
    "    \n",
    "    4. Location: Choose one of [outdoors, indoors]\n",
    "    \n",
    "    4. Clothes: Choose one of [anything stated in description]\n",
    "    \n",
    "    If category is unspecified, do not include it in output.\n",
    "    \n",
    "    \n",
    "    Analyze the image description carefully and output your final tags in the JSON format. Use lowercase for all letters.\n",
    "    \n",
    "    \n",
    "    Response format instructions:\n",
    "    1. Output ONLY valid python dict and nothing else. Start your answer with { and finish with }\n",
    "    2. Response example: {'eroticism level': 'explicit', 'body part emphasis': 'pussy', 'position': 'legs spread'}\n",
    "\n",
    "    Remember to base your analysis solely on the information provided in the image description. Do not make assumptions beyond what is explicitly stated or clearly implied by the description.\n",
    "    \"\"\").strip()\n",
    "    \n",
    "    prompt_template = prompt_template.replace(\"$IMAGE_DESCRIPTION\", image_description)\n",
    "    messages = [{\"role\": \"user\", \"content\": str(prompt_template)}]\n",
    "\n",
    "    resp = await chat_completion_openai(messages, llm_scenarios_config['tagging'])\n",
    "    \n",
    "    return resp\n",
    "\n",
    "resp = await get_tags('nswf, naked, legs spread, in bathroom')\n",
    "print(resp)"
   ]
  },
  {
   "cell_type": "code",
   "execution_count": 5,
   "metadata": {},
   "outputs": [
    {
     "data": {
      "text/plain": [
       "{'eroticism level': 'explicit',\n",
       " 'body part emphasis': 'pussy, legs',\n",
       " 'position': 'legs spread',\n",
       " 'location': 'indoors',\n",
       " 'clothes': 'naked'}"
      ]
     },
     "execution_count": 5,
     "metadata": {},
     "output_type": "execute_result"
    }
   ],
   "source": [
    "import json\n",
    "json.loads(resp['answer_text'])"
   ]
  },
  {
   "cell_type": "code",
   "execution_count": null,
   "metadata": {},
   "outputs": [],
   "source": []
  }
 ],
 "metadata": {
  "kernelspec": {
   "display_name": "base",
   "language": "python",
   "name": "python3"
  },
  "language_info": {
   "codemirror_mode": {
    "name": "ipython",
    "version": 3
   },
   "file_extension": ".py",
   "mimetype": "text/x-python",
   "name": "python",
   "nbconvert_exporter": "python",
   "pygments_lexer": "ipython3",
   "version": "3.11.8"
  }
 },
 "nbformat": 4,
 "nbformat_minor": 2
}
